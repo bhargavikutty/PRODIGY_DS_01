{
 "cells": [
  {
   "cell_type": "markdown",
   "id": "b6ebd7d5",
   "metadata": {},
   "source": [
    "# Prodigy Infotech Internship Tasks :"
   ]
  },
  {
   "cell_type": "markdown",
   "id": "2e5b99aa",
   "metadata": {},
   "source": [
    "## Task - 1"
   ]
  },
  {
   "cell_type": "markdown",
   "id": "c961cc0b",
   "metadata": {},
   "source": [
    "### Spotify_long_Tracks(2014-2024) Analysis through visualizations :"
   ]
  },
  {
   "cell_type": "markdown",
   "id": "949a0224",
   "metadata": {},
   "source": [
    "About Dataset :\n",
    "\n",
    "This dataset, \"Spotify's Long Hits (2014-2024) 🎶,\" offers a unique collection of over 800 tracks, each standing out for its extended playtime, marking the years from 2014 to 2024. It serves as a unique lens through which the evolution of musical duration and listener preferences can be observed over a significant period. Each track in this dataset not only surpasses the conventional lengths but also encapsulates the essence of its time, making it a valuable resource for in-depth musical analysis."
   ]
  },
  {
   "cell_type": "code",
   "execution_count": 11,
   "id": "b25ef435",
   "metadata": {},
   "outputs": [],
   "source": [
    "#Importing all required libraries\n",
    "\n",
    "import pandas as pd\n",
    "import numpy as np\n",
    "import matplotlib.pyplot as plt\n",
    "import seaborn as sb"
   ]
  },
  {
   "cell_type": "code",
   "execution_count": 28,
   "id": "57f564f1",
   "metadata": {},
   "outputs": [],
   "source": [
    "# Loading the dataset:\n",
    "spotify_data = pd.read_csv(\"spotify_long_tracks_2014_2024.csv\")\n"
   ]
  },
  {
   "cell_type": "code",
   "execution_count": 30,
   "id": "61094c0a",
   "metadata": {},
   "outputs": [
    {
     "data": {
      "text/html": [
       "<div>\n",
       "<style scoped>\n",
       "    .dataframe tbody tr th:only-of-type {\n",
       "        vertical-align: middle;\n",
       "    }\n",
       "\n",
       "    .dataframe tbody tr th {\n",
       "        vertical-align: top;\n",
       "    }\n",
       "\n",
       "    .dataframe thead th {\n",
       "        text-align: right;\n",
       "    }\n",
       "</style>\n",
       "<table border=\"1\" class=\"dataframe\">\n",
       "  <thead>\n",
       "    <tr style=\"text-align: right;\">\n",
       "      <th></th>\n",
       "      <th>ID</th>\n",
       "      <th>Name</th>\n",
       "      <th>Duration (Minutes)</th>\n",
       "      <th>Artists</th>\n",
       "    </tr>\n",
       "  </thead>\n",
       "  <tbody>\n",
       "    <tr>\n",
       "      <th>0</th>\n",
       "      <td>026O2YP2wRl9h3Ht9ClZST</td>\n",
       "      <td>Steady Rain in a Forest with Light Background ...</td>\n",
       "      <td>100</td>\n",
       "      <td>Nature Sounds</td>\n",
       "    </tr>\n",
       "    <tr>\n",
       "      <th>1</th>\n",
       "      <td>0DXnjJxJBvgMvBjG6Jug7I</td>\n",
       "      <td>Soundarya Lahari</td>\n",
       "      <td>66</td>\n",
       "      <td>Mambalam Sisters</td>\n",
       "    </tr>\n",
       "    <tr>\n",
       "      <th>2</th>\n",
       "      <td>6BFn78qFy9bRqKHTMfhnNv</td>\n",
       "      <td>Waves of Abundance &amp; Fullfillment</td>\n",
       "      <td>60</td>\n",
       "      <td>Zen Life Relax</td>\n",
       "    </tr>\n",
       "    <tr>\n",
       "      <th>3</th>\n",
       "      <td>1dNwMOMtq3yflXibbqgLku</td>\n",
       "      <td>Mosquito Solution Anti Teen Street Party or Te...</td>\n",
       "      <td>45</td>\n",
       "      <td>Device Sound Effect</td>\n",
       "    </tr>\n",
       "    <tr>\n",
       "      <th>4</th>\n",
       "      <td>290gfei8moWWSh8qTVkTT3</td>\n",
       "      <td>Ibiza Sunset Tibetan Singing Bowl Sessions 7 (...</td>\n",
       "      <td>44</td>\n",
       "      <td>Tibetan Singing Bowls</td>\n",
       "    </tr>\n",
       "  </tbody>\n",
       "</table>\n",
       "</div>"
      ],
      "text/plain": [
       "                       ID                                               Name  \\\n",
       "0  026O2YP2wRl9h3Ht9ClZST  Steady Rain in a Forest with Light Background ...   \n",
       "1  0DXnjJxJBvgMvBjG6Jug7I                                   Soundarya Lahari   \n",
       "2  6BFn78qFy9bRqKHTMfhnNv                  Waves of Abundance & Fullfillment   \n",
       "3  1dNwMOMtq3yflXibbqgLku  Mosquito Solution Anti Teen Street Party or Te...   \n",
       "4  290gfei8moWWSh8qTVkTT3  Ibiza Sunset Tibetan Singing Bowl Sessions 7 (...   \n",
       "\n",
       "   Duration (Minutes)                Artists  \n",
       "0                 100          Nature Sounds  \n",
       "1                  66       Mambalam Sisters  \n",
       "2                  60         Zen Life Relax  \n",
       "3                  45    Device Sound Effect  \n",
       "4                  44  Tibetan Singing Bowls  "
      ]
     },
     "execution_count": 30,
     "metadata": {},
     "output_type": "execute_result"
    }
   ],
   "source": [
    "#Top 5 records\n",
    "spotify_data.head()"
   ]
  },
  {
   "cell_type": "code",
   "execution_count": 29,
   "id": "2b03dd68",
   "metadata": {},
   "outputs": [
    {
     "data": {
      "text/html": [
       "<div>\n",
       "<style scoped>\n",
       "    .dataframe tbody tr th:only-of-type {\n",
       "        vertical-align: middle;\n",
       "    }\n",
       "\n",
       "    .dataframe tbody tr th {\n",
       "        vertical-align: top;\n",
       "    }\n",
       "\n",
       "    .dataframe thead th {\n",
       "        text-align: right;\n",
       "    }\n",
       "</style>\n",
       "<table border=\"1\" class=\"dataframe\">\n",
       "  <thead>\n",
       "    <tr style=\"text-align: right;\">\n",
       "      <th></th>\n",
       "      <th>ID</th>\n",
       "      <th>Name</th>\n",
       "      <th>Duration (Minutes)</th>\n",
       "      <th>Artists</th>\n",
       "    </tr>\n",
       "  </thead>\n",
       "  <tbody>\n",
       "    <tr>\n",
       "      <th>811</th>\n",
       "      <td>0OYbUI94jw0vLQeAmKKZ53</td>\n",
       "      <td>Keep On</td>\n",
       "      <td>5</td>\n",
       "      <td>Vanilla</td>\n",
       "    </tr>\n",
       "    <tr>\n",
       "      <th>812</th>\n",
       "      <td>4Wmjr8wNvU4O3tj3CXRmkE</td>\n",
       "      <td>雨の街 - Re:Lilly remix</td>\n",
       "      <td>5</td>\n",
       "      <td>Re:Lilly</td>\n",
       "    </tr>\n",
       "    <tr>\n",
       "      <th>813</th>\n",
       "      <td>465EdPfedCDmofyICPGmiF</td>\n",
       "      <td>Měla Jsem Vrásky Na Čele</td>\n",
       "      <td>5</td>\n",
       "      <td>Jana Rychterová</td>\n",
       "    </tr>\n",
       "    <tr>\n",
       "      <th>814</th>\n",
       "      <td>2NNBTCfzAgyolaaZNNzD4O</td>\n",
       "      <td>ARIGATOUNO WA - Cover ver.</td>\n",
       "      <td>5</td>\n",
       "      <td>Baby Band</td>\n",
       "    </tr>\n",
       "    <tr>\n",
       "      <th>815</th>\n",
       "      <td>5dB5tmSZ4hoUY36tSkPoxt</td>\n",
       "      <td>Alt Barbat</td>\n",
       "      <td>5</td>\n",
       "      <td>Mellina</td>\n",
       "    </tr>\n",
       "  </tbody>\n",
       "</table>\n",
       "</div>"
      ],
      "text/plain": [
       "                         ID                        Name  Duration (Minutes)  \\\n",
       "811  0OYbUI94jw0vLQeAmKKZ53                     Keep On                   5   \n",
       "812  4Wmjr8wNvU4O3tj3CXRmkE        雨の街 - Re:Lilly remix                   5   \n",
       "813  465EdPfedCDmofyICPGmiF    Měla Jsem Vrásky Na Čele                   5   \n",
       "814  2NNBTCfzAgyolaaZNNzD4O  ARIGATOUNO WA - Cover ver.                   5   \n",
       "815  5dB5tmSZ4hoUY36tSkPoxt                  Alt Barbat                   5   \n",
       "\n",
       "             Artists  \n",
       "811          Vanilla  \n",
       "812         Re:Lilly  \n",
       "813  Jana Rychterová  \n",
       "814        Baby Band  \n",
       "815          Mellina  "
      ]
     },
     "execution_count": 29,
     "metadata": {},
     "output_type": "execute_result"
    }
   ],
   "source": [
    "# Bottom 5 records\n",
    "spotify_data.tail()"
   ]
  },
  {
   "cell_type": "code",
   "execution_count": 4,
   "id": "666b0a5a",
   "metadata": {},
   "outputs": [
    {
     "name": "stdout",
     "output_type": "stream",
     "text": [
      "Missing values in each column:\n",
      "ID                    0\n",
      "Name                  0\n",
      "Duration (Minutes)    0\n",
      "Artists               0\n",
      "dtype: int64\n"
     ]
    }
   ],
   "source": [
    "# Check for missing values\n",
    "print(\"Missing values in each column:\")\n",
    "print(spotify_data.isnull().sum())"
   ]
  },
  {
   "cell_type": "markdown",
   "id": "7e2bfb31",
   "metadata": {},
   "source": [
    "Here,our data doesn't have any missing values "
   ]
  },
  {
   "cell_type": "code",
   "execution_count": 5,
   "id": "b6fa0beb",
   "metadata": {},
   "outputs": [
    {
     "data": {
      "text/html": [
       "<div>\n",
       "<style scoped>\n",
       "    .dataframe tbody tr th:only-of-type {\n",
       "        vertical-align: middle;\n",
       "    }\n",
       "\n",
       "    .dataframe tbody tr th {\n",
       "        vertical-align: top;\n",
       "    }\n",
       "\n",
       "    .dataframe thead th {\n",
       "        text-align: right;\n",
       "    }\n",
       "</style>\n",
       "<table border=\"1\" class=\"dataframe\">\n",
       "  <thead>\n",
       "    <tr style=\"text-align: right;\">\n",
       "      <th></th>\n",
       "      <th>Duration (Minutes)</th>\n",
       "    </tr>\n",
       "  </thead>\n",
       "  <tbody>\n",
       "    <tr>\n",
       "      <th>count</th>\n",
       "      <td>816.000000</td>\n",
       "    </tr>\n",
       "    <tr>\n",
       "      <th>mean</th>\n",
       "      <td>6.980392</td>\n",
       "    </tr>\n",
       "    <tr>\n",
       "      <th>std</th>\n",
       "      <td>5.907642</td>\n",
       "    </tr>\n",
       "    <tr>\n",
       "      <th>min</th>\n",
       "      <td>5.000000</td>\n",
       "    </tr>\n",
       "    <tr>\n",
       "      <th>25%</th>\n",
       "      <td>5.000000</td>\n",
       "    </tr>\n",
       "    <tr>\n",
       "      <th>50%</th>\n",
       "      <td>6.000000</td>\n",
       "    </tr>\n",
       "    <tr>\n",
       "      <th>75%</th>\n",
       "      <td>7.000000</td>\n",
       "    </tr>\n",
       "    <tr>\n",
       "      <th>max</th>\n",
       "      <td>100.000000</td>\n",
       "    </tr>\n",
       "  </tbody>\n",
       "</table>\n",
       "</div>"
      ],
      "text/plain": [
       "       Duration (Minutes)\n",
       "count          816.000000\n",
       "mean             6.980392\n",
       "std              5.907642\n",
       "min              5.000000\n",
       "25%              5.000000\n",
       "50%              6.000000\n",
       "75%              7.000000\n",
       "max            100.000000"
      ]
     },
     "execution_count": 5,
     "metadata": {},
     "output_type": "execute_result"
    }
   ],
   "source": [
    "#Statistics of the data\n",
    "spotify_data.describe()"
   ]
  },
  {
   "cell_type": "code",
   "execution_count": 8,
   "id": "b2af0ae8",
   "metadata": {},
   "outputs": [
    {
     "name": "stdout",
     "output_type": "stream",
     "text": [
      "<class 'pandas.core.frame.DataFrame'>\n",
      "RangeIndex: 816 entries, 0 to 815\n",
      "Data columns (total 4 columns):\n",
      " #   Column              Non-Null Count  Dtype \n",
      "---  ------              --------------  ----- \n",
      " 0   ID                  816 non-null    object\n",
      " 1   Name                816 non-null    object\n",
      " 2   Duration (Minutes)  816 non-null    int64 \n",
      " 3   Artists             816 non-null    object\n",
      "dtypes: int64(1), object(3)\n",
      "memory usage: 25.6+ KB\n"
     ]
    }
   ],
   "source": [
    "# Info \n",
    "spotify_data.info()"
   ]
  },
  {
   "cell_type": "markdown",
   "id": "6d95d459",
   "metadata": {},
   "source": [
    "From the above cell we can observe the null and data types of the fileds "
   ]
  },
  {
   "cell_type": "code",
   "execution_count": 9,
   "id": "b6b40bfd",
   "metadata": {},
   "outputs": [
    {
     "data": {
      "text/plain": [
       "(816, 4)"
      ]
     },
     "execution_count": 9,
     "metadata": {},
     "output_type": "execute_result"
    }
   ],
   "source": [
    "#Checking size of the data\n",
    "spotify_data.shape"
   ]
  },
  {
   "cell_type": "markdown",
   "id": "c685d08c",
   "metadata": {},
   "source": [
    "we have 816 rows and 4 columns"
   ]
  },
  {
   "cell_type": "markdown",
   "id": "4f6e0f6b",
   "metadata": {},
   "source": [
    "### Histogram of track durations"
   ]
  },
  {
   "cell_type": "code",
   "execution_count": 12,
   "id": "f3fe9f86",
   "metadata": {},
   "outputs": [
    {
     "data": {
      "image/png": "[encoded data removed]",
      "text/plain": [
       "<Figure size 720x432 with 1 Axes>"
      ]
     },
     "metadata": {
      "needs_background": "light"
     },
     "output_type": "display_data"
    }
   ],
   "source": [
    "# Histogram\n",
    "plt.figure(figsize=(10, 6))\n",
    "plt.hist(spotify_data['Duration (Minutes)'], bins=20, edgecolor='black')\n",
    "plt.title('Distribution of Track Durations', fontsize=16)\n",
    "plt.xlabel('Duration (Minutes)', fontsize=14)\n",
    "plt.ylabel('Count', fontsize=14)\n",
    "plt.show()"
   ]
  },
  {
   "cell_type": "markdown",
   "id": "c11b6827",
   "metadata": {},
   "source": [
    "Interpretation :\n",
    "\n",
    "The histogram of track durations reveals the range and concentration of track lengths in the dataset. From the visualization, we can observe:\n",
    "\n",
    "The graph shows that most tracks have a duration of less than 20 minutes. There is a small number of tracks that last longer than 100 minutes."
   ]
  },
  {
   "cell_type": "markdown",
   "id": "54fcf1c6",
   "metadata": {},
   "source": [
    "### Bar plot of top 10 artists with the longest tracks"
   ]
  },
  {
   "cell_type": "code",
   "execution_count": 15,
   "id": "b8be44c2",
   "metadata": {},
   "outputs": [
    {
     "data": {
      "image/png": "[encoded data removed]",
      "text/plain": [
       "<Figure size 720x432 with 1 Axes>"
      ]
     },
     "metadata": {
      "needs_background": "light"
     },
     "output_type": "display_data"
    }
   ],
   "source": [
    "#Bar plot of top 10 artists with the longest tracks\n",
    "top_artists = spotify_data['Artists'].value_counts().nlargest(10).reset_index()\n",
    "top_artists.columns = ['Artists', 'Track Count']\n",
    "\n",
    "plt.figure(figsize=(10, 6))\n",
    "sb.barplot(x='Artists', y='Track Count', data=top_artists)\n",
    "plt.title('Top 10 Artists with the Longest Tracks', fontsize=16)\n",
    "plt.xlabel('Artists', fontsize=14)\n",
    "plt.ylabel('Track Count', fontsize=14)\n",
    "plt.xticks(rotation=45)\n",
    "plt.show()"
   ]
  },
  {
   "cell_type": "markdown",
   "id": "407c66d3",
   "metadata": {},
   "source": [
    " Interpretation :\n",
    " \n",
    " This bar plot displays the top 10 artists with the highest number of long tracks in the dataset. It provides insight into the artists who have contributed the most extended compositions."
   ]
  }
 ],
 "metadata": {
  "kernelspec": {
   "display_name": "Python 3 (ipykernel)",
   "language": "python",
   "name": "python3"
  },
  "language_info": {
   "codemirror_mode": {
    "name": "ipython",
    "version": 3
   },
   "file_extension": ".py",
   "mimetype": "text/x-python",
   "name": "python",
   "nbconvert_exporter": "python",
   "pygments_lexer": "ipython3",
   "version": "3.9.12"
  }
 },
 "nbformat": 4,
 "nbformat_minor": 5
}
